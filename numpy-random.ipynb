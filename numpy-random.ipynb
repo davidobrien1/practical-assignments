{
 "cells": [
  {
   "cell_type": "markdown",
   "metadata": {},
   "source": [
    "# Programming for Data Analysis   \n",
    "# Semester 2 Assignment 2018\n",
    "### Student:    David O'Brien\n",
    "### Student ID: G00364766\n",
    "\n",
    "### Numpy.random package in Python\n",
    "![picture of Numpy logo](http://www.numpy.org/_static/numpy_logo.png)"
   ]
  },
  {
   "cell_type": "markdown",
   "metadata": {},
   "source": [
    "# Explain the overall purpose of the package\n",
    "Numpy is a specialist package that is really efficient dealing with arrays and numbers.  The reason its so popular is because generally the best way to deal with anything on a computer, i.e. resizing images, turning songs into mp3's, anything scientific - matrix operations are the quickest way to do these operations and Numpy knows how to do these operations very efficiently. \n",
    "\n",
    "Numpy.random is  sub-package of the numpy package in Python.  A lot of other package depend on Numpy.  Interacting with it directly is not that common.  You usually interact with numpy objects through the use of other packages such as pandas or scipi.  Its about generating random numbers (pseudorandom no.'s).  There are a number of ways to generate random numbers \n",
    "\n",
    "There are four sections to the numpy.ranom package.  These are:\n",
    "\n",
    "1 - Random Data Sampling - this \n",
    "2 - Permutations\n",
    "3 - Distributions - different probability distributions\n",
    "4 - Random Generator\n"
   ]
  },
  {
   "cell_type": "markdown",
   "metadata": {},
   "source": [
    "# Explain the use of the \"Simple random data\" and \"Permutations\" functions\n",
    "\n"
   ]
  },
  {
   "cell_type": "code",
   "execution_count": 1,
   "metadata": {},
   "outputs": [],
   "source": [
    "# import numpy\n",
    "import numpy as np"
   ]
  },
  {
   "cell_type": "markdown",
   "metadata": {},
   "source": [
    "### np.random.rand\n",
    "np.random.rand retuns an array between 0 and 1 based on the inputs.  The example below will return an array with 5 columns and 6 rows with numbers betweeen 0 and 1"
   ]
  },
  {
   "cell_type": "code",
   "execution_count": 2,
   "metadata": {},
   "outputs": [
    {
     "data": {
      "text/plain": [
       "array([[0.06990456, 0.26422361, 0.02697365, 0.44359722, 0.55747306,\n",
       "        0.01237137],\n",
       "       [0.68684878, 0.56950787, 0.43886186, 0.89536251, 0.80996514,\n",
       "        0.06116127],\n",
       "       [0.61495693, 0.99646784, 0.08921949, 0.04744051, 0.52735759,\n",
       "        0.54064597],\n",
       "       [0.29320092, 0.16048191, 0.08361884, 0.1829023 , 0.62091776,\n",
       "        0.16773607],\n",
       "       [0.65283525, 0.07741056, 0.24406179, 0.96957804, 0.79856276,\n",
       "        0.41357133]])"
      ]
     },
     "execution_count": 2,
     "metadata": {},
     "output_type": "execute_result"
    }
   ],
   "source": [
    "# generate an array of random numbers between 0 and 1 with 5 rows and 6 columns\n",
    "x = np.random.rand(5,6)\n",
    "x"
   ]
  },
  {
   "cell_type": "markdown",
   "metadata": {},
   "source": [
    "### np.random.randn\n",
    "np.random.randn retuns an array of numbers from the standard normal distribution.  The standard normal distribution is a normal distribution with a mean of 0 and a standard deviation of 1$^{3}$.  The example below will return an array with 2 columns and 10"
   ]
  },
  {
   "cell_type": "code",
   "execution_count": 19,
   "metadata": {},
   "outputs": [
    {
     "data": {
      "text/plain": [
       "array([[-1.099181  , -1.34117008, -1.81430792,  0.12451339,  0.95990945,\n",
       "         0.41203482,  2.28754701, -1.31060307, -1.71521073,  1.35383398],\n",
       "       [-0.42992606,  2.25862779,  1.6767355 , -1.78180811, -2.2198969 ,\n",
       "        -0.79256201,  0.84035757, -0.56931966, -0.83065779, -0.67225073]])"
      ]
     },
     "execution_count": 19,
     "metadata": {},
     "output_type": "execute_result"
    }
   ],
   "source": [
    "# generate an array of random numbers with 2 rows and102 columns that \n",
    "y = np.random.randn(2,10)\n",
    "y"
   ]
  },
  {
   "cell_type": "markdown",
   "metadata": {},
   "source": [
    "### np.random.sample\n",
    "np.random.sample retuns an array of numbers from the continuous unifrom distribution.  The uniform distribution (continuous) is one of the simplest probability distributions in statistics. It is a continuous distribution, this means that it takes values within a specified range, e.g. between 0 and 1$^{4}$.  The example below will return an array with 2 columns and 10"
   ]
  },
  {
   "cell_type": "code",
   "execution_count": 15,
   "metadata": {},
   "outputs": [
    {
     "data": {
      "text/plain": [
       "array([[-2.57783771, -0.51985282],\n",
       "       [-0.3478858 , -2.89170054]])"
      ]
     },
     "execution_count": 15,
     "metadata": {},
     "output_type": "execute_result"
    }
   ],
   "source": [
    "# Generate random numbers between 3 and minus 3 in an array of 2 rows and 2 columns\n",
    "5 * np.random.random_sample((2, 2)) - 5"
   ]
  },
  {
   "cell_type": "markdown",
   "metadata": {},
   "source": [
    "# Explain the use of seeds in generating pseudorandom numbers"
   ]
  },
  {
   "cell_type": "markdown",
   "metadata": {},
   "source": [
    "# Explain the use and purpose of at least five \"Distributions\" functions"
   ]
  },
  {
   "cell_type": "code",
   "execution_count": null,
   "metadata": {},
   "outputs": [],
   "source": []
  },
  {
   "cell_type": "markdown",
   "metadata": {},
   "source": [
    "# Explain the use of seeds in generating pseudorandom numbers"
   ]
  },
  {
   "cell_type": "code",
   "execution_count": 6,
   "metadata": {},
   "outputs": [
    {
     "data": {
      "text/plain": [
       "<Figure size 640x480 with 1 Axes>"
      ]
     },
     "metadata": {},
     "output_type": "display_data"
    }
   ],
   "source": [
    "import matplotlib.pyplot as plt\n",
    "\n",
    "plt.hist(x)\n",
    "plt.show()"
   ]
  },
  {
   "cell_type": "code",
   "execution_count": 7,
   "metadata": {},
   "outputs": [],
   "source": [
    "x = np.random.uniform(0,1000,10000)"
   ]
  },
  {
   "cell_type": "code",
   "execution_count": 8,
   "metadata": {},
   "outputs": [
    {
     "data": {
      "text/plain": [
       "(array([1010.,  998.,  967., 1017.,  989., 1014.,  962., 1015., 1034.,\n",
       "         994.]),\n",
       " array([2.26363672e-02, 1.00002910e+02, 1.99983184e+02, 2.99963458e+02,\n",
       "        3.99943732e+02, 4.99924006e+02, 5.99904280e+02, 6.99884554e+02,\n",
       "        7.99864828e+02, 8.99845102e+02, 9.99825376e+02]),\n",
       " <a list of 10 Patch objects>)"
      ]
     },
     "execution_count": 8,
     "metadata": {},
     "output_type": "execute_result"
    },
    {
     "data": {
      "image/png": "[encoded data removed]",
      "text/plain": [
       "<Figure size 432x288 with 1 Axes>"
      ]
     },
     "metadata": {},
     "output_type": "display_data"
    }
   ],
   "source": [
    "plt.hist(x)"
   ]
  },
  {
   "cell_type": "code",
   "execution_count": 9,
   "metadata": {},
   "outputs": [],
   "source": [
    "x = np.random.normal(0,0.1,1000)"
   ]
  },
  {
   "cell_type": "code",
   "execution_count": 10,
   "metadata": {
    "scrolled": true
   },
   "outputs": [
    {
     "data": {
      "text/plain": [
       "(array([  4.,  25.,  91., 186., 248., 233., 136.,  61.,  11.,   5.]),\n",
       " array([-0.30831911, -0.24429625, -0.1802734 , -0.11625054, -0.05222768,\n",
       "         0.01179517,  0.07581803,  0.13984088,  0.20386374,  0.2678866 ,\n",
       "         0.33190945]),\n",
       " <a list of 10 Patch objects>)"
      ]
     },
     "execution_count": 10,
     "metadata": {},
     "output_type": "execute_result"
    },
    {
     "data": {
      "image/png": "[encoded data removed]",
      "text/plain": [
       "<Figure size 432x288 with 1 Axes>"
      ]
     },
     "metadata": {},
     "output_type": "display_data"
    }
   ],
   "source": [
    "plt.hist(x)"
   ]
  },
  {
   "cell_type": "markdown",
   "metadata": {},
   "source": [
    "## References\n",
    "1 - https://docs.scipy.org/doc/numpy/\n",
    "\n",
    "2 - https://docs.scipy.org/doc/numpy/reference/routines.random.html\n",
    "\n",
    "3 - http://onlinestatbook.com/2/glossary/standard_normal.html\n",
    "\n",
    "4 - https://www.ucd.ie/t4cms/Uniform%20Distribution.pdf\n",
    "\n",
    "5 - "
   ]
  },
  {
   "cell_type": "markdown",
   "metadata": {},
   "source": [
    "# Random"
   ]
  },
  {
   "cell_type": "markdown",
   "metadata": {},
   "source": [
    "# End"
   ]
  },
  {
   "cell_type": "code",
   "execution_count": null,
   "metadata": {},
   "outputs": [],
   "source": []
  }
 ],
 "metadata": {
  "kernelspec": {
   "display_name": "Python 3",
   "language": "python",
   "name": "python3"
  },
  "language_info": {
   "codemirror_mode": {
    "name": "ipython",
    "version": 3
   },
   "file_extension": ".py",
   "mimetype": "text/x-python",
   "name": "python",
   "nbconvert_exporter": "python",
   "pygments_lexer": "ipython3",
   "version": "3.6.5"
  }
 },
 "nbformat": 4,
 "nbformat_minor": 2
}
