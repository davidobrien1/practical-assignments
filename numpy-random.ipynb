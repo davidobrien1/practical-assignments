{
 "cells": [
  {
   "cell_type": "markdown",
   "metadata": {},
   "source": [
    "# Programming for Data Analysis   \n",
    "# Semester 2 Assignment 2018\n",
    "### Student:    David O'Brien\n",
    "### Student ID: G00364766\n",
    "\n",
    "### Numpy.random package in Python\n",
    "![picture of Numpy logo](http://www.numpy.org/_static/numpy_logo.png)"
   ]
  },
  {
   "cell_type": "markdown",
   "metadata": {},
   "source": [
    "# Explain the overall purpose of the package\n",
    "Numpy is a specialist package that is really efficient dealing with arrays and numbers.  The reason its so popular is because generally the best way to deal with anything on a computer, i.e. resizing images, turning songs into mp3's, anything scientific, is by using matrix operations and Numpy knows how to do these operations very efficiently. \n",
    "\n",
    "Random numbers may be used for such things as generating data encrytption keys, for selecting random samples from larger data sets, games and gambling$^{5}$.  Numpy.random is  sub-package of the numpy package in Python and it is used to generate random (pseudorandom) numbers.  A lot of other packages depend on Numpy.  Interacting with it directly is not that common.  You usually interact with numpy objects through the use of other packages such as pandas or scipy.  There are a number of ways to generate random numbers \n",
    "\n",
    "There are four sections to the numpy.ranom package.  These are:\n",
    "\n",
    "1 - Random Data Sampling\n",
    "\n",
    "2 - Permutations\n",
    "\n",
    "3 - Distributions - different probability distributions\n",
    "\n",
    "4 - Random Generator\n"
   ]
  },
  {
   "cell_type": "markdown",
   "metadata": {},
   "source": [
    "# Explain the use of the \"Simple random data\" and \"Permutations\" functions\n",
    "\n"
   ]
  },
  {
   "cell_type": "markdown",
   "metadata": {},
   "source": [
    "## Simple Random Data\n",
    "Below, I will test a sample of the functions under the \"Simple Random Data\" section of the numpy.random documentation, showing the purpose of each function"
   ]
  },
  {
   "cell_type": "code",
   "execution_count": 1,
   "metadata": {},
   "outputs": [],
   "source": [
    "# import numpy\n",
    "import numpy as np"
   ]
  },
  {
   "cell_type": "markdown",
   "metadata": {},
   "source": [
    "### np.random.rand\n",
    "np.random.rand retuns an array between 0 and 1 based on the inputs.  The example below will return an array with 5 columns and 6 rows with numbers betweeen 0 and 1"
   ]
  },
  {
   "cell_type": "code",
   "execution_count": 2,
   "metadata": {},
   "outputs": [
    {
     "data": {
      "text/plain": [
       "array([[0.8765581 , 0.0199223 , 0.24902413, 0.55667221, 0.15729458,\n",
       "        0.13943445],\n",
       "       [0.67688099, 0.09334239, 0.33439773, 0.39363183, 0.35758767,\n",
       "        0.42185615],\n",
       "       [0.85784064, 0.49945142, 0.07937836, 0.56837336, 0.95467706,\n",
       "        0.44743656],\n",
       "       [0.83054407, 0.53435117, 0.29854852, 0.49584734, 0.11579753,\n",
       "        0.83132097],\n",
       "       [0.38497462, 0.96062669, 0.94443052, 0.2696614 , 0.30354536,\n",
       "        0.83459019]])"
      ]
     },
     "execution_count": 2,
     "metadata": {},
     "output_type": "execute_result"
    }
   ],
   "source": [
    "# generate an array of random numbers between 0 and 1 with 5 rows and 6 columns\n",
    "x = np.random.rand(5,6)\n",
    "x"
   ]
  },
  {
   "cell_type": "markdown",
   "metadata": {},
   "source": [
    "### np.random.randn\n",
    "np.random.randn retuns an array of numbers from the standard normal distribution.  The standard normal distribution is a normal distribution with a mean of 0 and a standard deviation of 1$^{3}$.  The example below will return an array with 2 columns and 10"
   ]
  },
  {
   "cell_type": "code",
   "execution_count": 3,
   "metadata": {},
   "outputs": [
    {
     "data": {
      "text/plain": [
       "array([[-6.45231005e-01,  7.99293892e-01,  6.37800847e-01,\n",
       "         2.03263817e+00, -5.47910674e-01,  1.04010782e+00,\n",
       "         1.94555452e+00, -1.57237169e+00,  5.22276434e-03,\n",
       "         7.39490305e-01],\n",
       "       [ 1.10614049e+00,  5.40780787e-01,  1.06856088e-01,\n",
       "         1.17317595e+00, -5.73367096e-01,  1.09787300e+00,\n",
       "         7.97453036e-01, -1.13930925e-03,  1.39745189e+00,\n",
       "        -4.12408315e-01]])"
      ]
     },
     "execution_count": 3,
     "metadata": {},
     "output_type": "execute_result"
    }
   ],
   "source": [
    "# generate an array of random numbers with 2 rows and102 columns that \n",
    "y = np.random.randn(2,10)\n",
    "y"
   ]
  },
  {
   "cell_type": "markdown",
   "metadata": {},
   "source": [
    "### np.random.sample\n",
    "np.random.sample retuns an array of numbers from the continuous unifrom distribution.  The uniform distribution (continuous) is one of the simplest probability distributions in statistics. It is a continuous distribution, this means that it takes values within a specified range, e.g. between 0 and 1$^{4}$.  The example below will return an array with 2 columns and 10"
   ]
  },
  {
   "cell_type": "code",
   "execution_count": 4,
   "metadata": {},
   "outputs": [
    {
     "data": {
      "text/plain": [
       "array([[-1.46225441, -4.63576637],\n",
       "       [-3.68920917, -4.31344707]])"
      ]
     },
     "execution_count": 4,
     "metadata": {},
     "output_type": "execute_result"
    }
   ],
   "source": [
    "# Generate random numbers between 3 and minus 3 in an array of 2 rows and 2 columns\n",
    "5 * np.random.random_sample((2, 2)) - 5"
   ]
  },
  {
   "cell_type": "markdown",
   "metadata": {},
   "source": [
    "## Permutations\n",
    "Below, I will test a sample of the functions under the \"Permutations\" section of the numpy.random documentation, showing the purpose of each function"
   ]
  },
  {
   "cell_type": "markdown",
   "metadata": {},
   "source": [
    "### np.random.shuffle\n",
    "This function shuffles the values in the array\n"
   ]
  },
  {
   "cell_type": "code",
   "execution_count": 13,
   "metadata": {},
   "outputs": [
    {
     "data": {
      "text/plain": [
       "array([3, 4, 7, 6, 0, 9, 2, 8, 1, 5])"
      ]
     },
     "execution_count": 13,
     "metadata": {},
     "output_type": "execute_result"
    }
   ],
   "source": [
    "# genearte an array of 10 random numbers. If this code is run a number of times, the output values will be the same but the order of the numbers will change\n",
    "z = np.arange(10)\n",
    "np.random.shuffle(z)\n",
    "z\n"
   ]
  },
  {
   "cell_type": "code",
   "execution_count": 37,
   "metadata": {},
   "outputs": [
    {
     "data": {
      "text/plain": [
       "array([[6, 7, 8],\n",
       "       [0, 1, 2],\n",
       "       [3, 4, 5]])"
      ]
     },
     "execution_count": 37,
     "metadata": {},
     "output_type": "execute_result"
    }
   ],
   "source": [
    "# genearte an array of 10 random numbers in a 3x3 array. If this code run a number of times, the output values will be the same for the columns but the row values will move\n",
    "a = np.arange(9).reshape((3, 3))\n",
    "np.random.shuffle(a)\n",
    "a\n"
   ]
  },
  {
   "cell_type": "markdown",
   "metadata": {},
   "source": [
    "# Explain the use and purpose of at least five \"Distributions\" functions"
   ]
  },
  {
   "cell_type": "markdown",
   "metadata": {},
   "source": [
    "### np.random.binomial"
   ]
  },
  {
   "cell_type": "markdown",
   "metadata": {},
   "source": [
    "Generates samples form a binomial distribution\n",
    "\n",
    "The binomial distribution with parameters n and p is the discrete probability distribution of the number of successes in a sequence of n independent experiments, each asking a yes–no question, and each with its own boolean-valued outcome: a random variable containing a single bit of information: success/yes/true/one (with probability p) or failure/no/false/zero (with probability q = 1 − p)$^{8}$"
   ]
  },
  {
   "cell_type": "code",
   "execution_count": 6,
   "metadata": {},
   "outputs": [
    {
     "data": {
      "text/plain": [
       "0.34875"
      ]
     },
     "execution_count": 6,
     "metadata": {},
     "output_type": "execute_result"
    }
   ],
   "source": [
    "n, p = 10, .1  # number of trials, probability of each trial\n",
    "s = sum(np.random.binomial(n, p, 20000) == 0)/20000\n",
    "s"
   ]
  },
  {
   "cell_type": "markdown",
   "metadata": {},
   "source": [
    "### np.random.geometric"
   ]
  },
  {
   "cell_type": "markdown",
   "metadata": {},
   "source": [
    "### np.random.normal"
   ]
  },
  {
   "cell_type": "markdown",
   "metadata": {},
   "source": [
    "### np.random.standard_gamma"
   ]
  },
  {
   "cell_type": "markdown",
   "metadata": {},
   "source": [
    "### np.random.uniform"
   ]
  },
  {
   "cell_type": "markdown",
   "metadata": {},
   "source": [
    "# Explain the use of seeds in generating pseudorandom numbers"
   ]
  },
  {
   "cell_type": "markdown",
   "metadata": {},
   "source": [
    "Computers cant generate random numbers, they generate something that looks random.  The way computers deal with this is that they generate pseudorandom numbers. The Key piece of information in these numbers is the seed and if you know this, you should be able to predict the numbers.  Typically, this is the time of when the code is run.\n",
    "\n",
    "If you want to test your code, you might need to generate the same random numbers every time.  You can tell python not to generate a random seed at the start, but instead you can give a seed so that the next time you run the code, you'll get the same random numbers and can test that everything is working"
   ]
  },
  {
   "cell_type": "code",
   "execution_count": null,
   "metadata": {},
   "outputs": [],
   "source": []
  },
  {
   "cell_type": "code",
   "execution_count": null,
   "metadata": {},
   "outputs": [],
   "source": []
  },
  {
   "cell_type": "code",
   "execution_count": null,
   "metadata": {},
   "outputs": [],
   "source": []
  },
  {
   "cell_type": "code",
   "execution_count": null,
   "metadata": {},
   "outputs": [],
   "source": []
  },
  {
   "cell_type": "code",
   "execution_count": 7,
   "metadata": {},
   "outputs": [
    {
     "data": {
      "text/plain": [
       "<Figure size 640x480 with 1 Axes>"
      ]
     },
     "metadata": {},
     "output_type": "display_data"
    }
   ],
   "source": [
    "import matplotlib.pyplot as plt\n",
    "\n",
    "plt.hist(x)\n",
    "plt.show()"
   ]
  },
  {
   "cell_type": "code",
   "execution_count": 8,
   "metadata": {},
   "outputs": [],
   "source": [
    "x = np.random.uniform(0,1000,10000)"
   ]
  },
  {
   "cell_type": "code",
   "execution_count": 9,
   "metadata": {},
   "outputs": [
    {
     "data": {
      "text/plain": [
       "(array([ 977.,  993.,  951., 1054.,  999.,  983., 1054.,  976., 1006.,\n",
       "        1007.]),\n",
       " array([2.06604411e-01, 1.00177966e+02, 2.00149327e+02, 3.00120689e+02,\n",
       "        4.00092050e+02, 5.00063412e+02, 6.00034773e+02, 7.00006134e+02,\n",
       "        7.99977496e+02, 8.99948857e+02, 9.99920219e+02]),\n",
       " <a list of 10 Patch objects>)"
      ]
     },
     "execution_count": 9,
     "metadata": {},
     "output_type": "execute_result"
    },
    {
     "data": {
      "image/png": "[encoded data removed]",
      "text/plain": [
       "<Figure size 432x288 with 1 Axes>"
      ]
     },
     "metadata": {},
     "output_type": "display_data"
    }
   ],
   "source": [
    "plt.hist(x)"
   ]
  },
  {
   "cell_type": "code",
   "execution_count": 10,
   "metadata": {},
   "outputs": [],
   "source": [
    "x = np.random.normal(0,0.1,1000)"
   ]
  },
  {
   "cell_type": "code",
   "execution_count": 11,
   "metadata": {
    "scrolled": true
   },
   "outputs": [
    {
     "data": {
      "text/plain": [
       "(array([ 17.,  50.,  94., 192., 217., 214., 123.,  67.,  21.,   5.]),\n",
       " array([-0.28474737, -0.22350449, -0.16226162, -0.10101874, -0.03977586,\n",
       "         0.02146702,  0.0827099 ,  0.14395278,  0.20519566,  0.26643854,\n",
       "         0.32768142]),\n",
       " <a list of 10 Patch objects>)"
      ]
     },
     "execution_count": 11,
     "metadata": {},
     "output_type": "execute_result"
    },
    {
     "data": {
      "image/png": "[encoded data removed]",
      "text/plain": [
       "<Figure size 432x288 with 1 Axes>"
      ]
     },
     "metadata": {},
     "output_type": "display_data"
    }
   ],
   "source": [
    "plt.hist(x)"
   ]
  },
  {
   "cell_type": "markdown",
   "metadata": {},
   "source": [
    "## References\n",
    "1 - https://docs.scipy.org/doc/numpy/\n",
    "\n",
    "2 - https://docs.scipy.org/doc/numpy/reference/routines.random.html\n",
    "\n",
    "3 - http://onlinestatbook.com/2/glossary/standard_normal.html\n",
    "\n",
    "4 - https://www.ucd.ie/t4cms/Uniform%20Distribution.pdf\n",
    "\n",
    "5 - https://www.random.org/randomness/\n",
    "\n",
    "6 - https://en.wikipedia.org/wiki/Pseudorandomness\n",
    "\n",
    "7 - https://en.wikipedia.org/wiki/Random_seed\n",
    "\n",
    "8 - https://en.wikipedia.org/wiki/Binomial_distribution\n",
    "\n",
    "9 - http://onlinestatbook.com/2/probability/binomial.html"
   ]
  },
  {
   "cell_type": "markdown",
   "metadata": {},
   "source": [
    "# Random"
   ]
  },
  {
   "cell_type": "markdown",
   "metadata": {},
   "source": [
    "# End"
   ]
  },
  {
   "cell_type": "code",
   "execution_count": null,
   "metadata": {},
   "outputs": [],
   "source": []
  }
 ],
 "metadata": {
  "kernelspec": {
   "display_name": "Python 3",
   "language": "python",
   "name": "python3"
  },
  "language_info": {
   "codemirror_mode": {
    "name": "ipython",
    "version": 3
   },
   "file_extension": ".py",
   "mimetype": "text/x-python",
   "name": "python",
   "nbconvert_exporter": "python",
   "pygments_lexer": "ipython3",
   "version": "3.6.5"
  }
 },
 "nbformat": 4,
 "nbformat_minor": 2
}
