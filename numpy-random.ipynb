{
 "cells": [
  {
   "cell_type": "markdown",
   "metadata": {},
   "source": [
    "# Programming for Data Analysis   \n",
    "# Semester 2 Assignment 2018\n",
    "### Student:    David O'Brien\n",
    "### Student ID: G00364766\n",
    "\n",
    "### Numpy.random package in Python\n",
    "![picture of Numpy logo](http://www.numpy.org/_static/numpy_logo.png)"
   ]
  },
  {
   "cell_type": "markdown",
   "metadata": {},
   "source": [
    "# Explain the overall purpose of the package\n",
    "Numpy is a specialist package that is really efficient dealing with arrays and numbers.  The reason its so popular is because generally the best way to deal with anything on a computer, i.e. resizing images, turning songs into mp3's, anything scientific, is by using matrix operations and Numpy knows how to do these operations very efficiently. \n",
    "\n",
    "Random numbers may be used for such things as generating data encrytption keys, for selecting random samples from larger data sets, games and gambling$^{5}$.  Numpy.random is  sub-package of the numpy package in Python and it is used to generate random (pseudorandom) numbers.  A lot of other packages depend on Numpy.  Interacting with it directly is not that common.  You usually interact with numpy objects through the use of other packages such as pandas or scipy.  There are a number of ways to generate random numbers \n",
    "\n",
    "There are four sections to the numpy.ranom package.  These are:\n",
    "\n",
    "1 - Random Data Sampling\n",
    "\n",
    "2 - Permutations\n",
    "\n",
    "3 - Distributions - different probability distributions\n",
    "\n",
    "4 - Random Generator\n"
   ]
  },
  {
   "cell_type": "markdown",
   "metadata": {},
   "source": [
    "# Explain the use of the \"Simple random data\" and \"Permutations\" functions\n",
    "\n"
   ]
  },
  {
   "cell_type": "markdown",
   "metadata": {},
   "source": [
    "## Simple Random Data\n",
    "Below, I will test a sample of the functions under the \"Simple Random Data\" section of the numpy.random documentation, showing the purpose of each function"
   ]
  },
  {
   "cell_type": "code",
   "execution_count": 28,
   "metadata": {},
   "outputs": [],
   "source": [
    "# import numpy\n",
    "import numpy as np\n",
    "# import matplotlib\n",
    "import matplotlib.pyplot as plt"
   ]
  },
  {
   "cell_type": "markdown",
   "metadata": {},
   "source": [
    "### np.random.rand\n",
    "np.random.rand retuns an array between 0 and 1 based on the inputs.  The example below will return an array with 5 columns and 6 rows with numbers betweeen 0 and 1"
   ]
  },
  {
   "cell_type": "code",
   "execution_count": 2,
   "metadata": {},
   "outputs": [
    {
     "data": {
      "text/plain": [
       "array([[0.94854347, 0.35976409, 0.78960424, 0.17691873, 0.66983483,\n",
       "        0.69945735],\n",
       "       [0.13845815, 0.13013777, 0.97769186, 0.73527204, 0.00495452,\n",
       "        0.86504873],\n",
       "       [0.82197339, 0.60146385, 0.69397634, 0.01705689, 0.77459794,\n",
       "        0.98317446],\n",
       "       [0.70616667, 0.6942674 , 0.34276558, 0.28416586, 0.39990715,\n",
       "        0.09660874],\n",
       "       [0.57743677, 0.84392918, 0.6874377 , 0.06477432, 0.13088263,\n",
       "        0.41905841]])"
      ]
     },
     "execution_count": 2,
     "metadata": {},
     "output_type": "execute_result"
    }
   ],
   "source": [
    "# generate an array of random numbers between 0 and 1 with 5 rows and 6 columns\n",
    "x = np.random.rand(5,6)\n",
    "x"
   ]
  },
  {
   "cell_type": "markdown",
   "metadata": {},
   "source": [
    "### np.random.randn\n",
    "np.random.randn retuns an array of numbers from the standard normal distribution.  The standard normal distribution is a normal distribution with a mean of 0 and a standard deviation of 1$^{3}$.  The example below will return an array with 2 columns and 10"
   ]
  },
  {
   "cell_type": "code",
   "execution_count": 3,
   "metadata": {},
   "outputs": [
    {
     "data": {
      "text/plain": [
       "array([[-0.3525181 , -1.37950664,  1.17151215,  0.34079185,  0.80033549,\n",
       "         2.17066951, -0.97321822, -0.66292539,  0.06845068, -1.34395745],\n",
       "       [ 1.39919406, -0.00575574,  1.0005807 , -2.56806497,  0.38684243,\n",
       "         1.67373574, -0.39247355, -0.80725391, -0.60216574,  0.24613205]])"
      ]
     },
     "execution_count": 3,
     "metadata": {},
     "output_type": "execute_result"
    }
   ],
   "source": [
    "# generate an array of random numbers with 2 rows and102 columns that \n",
    "y = np.random.randn(2,10)\n",
    "y"
   ]
  },
  {
   "cell_type": "markdown",
   "metadata": {},
   "source": [
    "### np.random.sample\n",
    "np.random.sample retuns an array of numbers from the continuous unifrom distribution.  The uniform distribution (continuous) is one of the simplest probability distributions in statistics. It is a continuous distribution, this means that it takes values within a specified range, e.g. between 0 and 1$^{4}$.  The example below will return an array with 2 columns and 10"
   ]
  },
  {
   "cell_type": "code",
   "execution_count": 4,
   "metadata": {},
   "outputs": [
    {
     "data": {
      "text/plain": [
       "array([[-4.38384209, -4.70191718],\n",
       "       [-3.9217348 , -3.85147758]])"
      ]
     },
     "execution_count": 4,
     "metadata": {},
     "output_type": "execute_result"
    }
   ],
   "source": [
    "# Generate random numbers between 3 and minus 3 in an array of 2 rows and 2 columns\n",
    "5 * np.random.random_sample((2, 2)) - 5"
   ]
  },
  {
   "cell_type": "markdown",
   "metadata": {},
   "source": [
    "## Permutations\n",
    "Below, I will test a sample of the functions under the \"Permutations\" section of the numpy.random documentation, showing the purpose of each function"
   ]
  },
  {
   "cell_type": "markdown",
   "metadata": {},
   "source": [
    "### np.random.shuffle\n",
    "This function shuffles the values in the array\n"
   ]
  },
  {
   "cell_type": "code",
   "execution_count": 5,
   "metadata": {},
   "outputs": [
    {
     "data": {
      "text/plain": [
       "array([8, 0, 7, 1, 3, 2, 6, 4, 5, 9])"
      ]
     },
     "execution_count": 5,
     "metadata": {},
     "output_type": "execute_result"
    }
   ],
   "source": [
    "# genearte an array of 10 random numbers. If this code is run a number of times, the output values will be the same but the order of the numbers will change\n",
    "z = np.arange(10)\n",
    "np.random.shuffle(z)\n",
    "z\n"
   ]
  },
  {
   "cell_type": "code",
   "execution_count": 6,
   "metadata": {},
   "outputs": [
    {
     "data": {
      "text/plain": [
       "array([[3, 4, 5],\n",
       "       [6, 7, 8],\n",
       "       [0, 1, 2]])"
      ]
     },
     "execution_count": 6,
     "metadata": {},
     "output_type": "execute_result"
    }
   ],
   "source": [
    "# genearte an array of 10 random numbers in a 3x3 array. If this code run a number of times, the output values will be the same for the columns but the row values will move\n",
    "a = np.arange(9).reshape((3, 3))\n",
    "np.random.shuffle(a)\n",
    "a\n"
   ]
  },
  {
   "cell_type": "markdown",
   "metadata": {},
   "source": [
    "# Explain the use and purpose of at least five \"Distributions\" functions\n",
    "\n",
    "Distributions are the spread of data across certain categories.  There are many different probability distribution functions that can be used to tell us how likely certain outcomes are."
   ]
  },
  {
   "cell_type": "markdown",
   "metadata": {},
   "source": [
    "### np.random.uniform"
   ]
  },
  {
   "cell_type": "markdown",
   "metadata": {},
   "source": [
    "### np.random.normal"
   ]
  },
  {
   "cell_type": "markdown",
   "metadata": {},
   "source": [
    "### np.random.binomial"
   ]
  },
  {
   "cell_type": "markdown",
   "metadata": {},
   "source": [
    "This function \\Generates samples from a binomial distribution.\n",
    "\n",
    "The binomial distribution with parameters n and p is the discrete probability distribution of the number of successes in a sequence of n independent experiments, each asking a yes–no question, and each with its own boolean-valued outcome: a random variable containing a single bit of information: success/yes/true/one (with probability p) or failure/no/false/zero (with probability q = 1 − p)$^{8}$\n",
    "\n",
    "In the example below, imagine the toss of a coin where you can have two possible outcomes - heads or tails.  The probability of heads or tails is 0.5.  If you were to toss the coin twice, how many times does it come up heads?  To explain this function, i have kept the number of tests low."
   ]
  },
  {
   "cell_type": "code",
   "execution_count": 32,
   "metadata": {},
   "outputs": [
    {
     "data": {
      "text/plain": [
       "array([2, 2, 1, 1, 2])"
      ]
     },
     "execution_count": 32,
     "metadata": {},
     "output_type": "execute_result"
    }
   ],
   "source": [
    "# generate random data in the binomial distribution\n",
    "n, p = 2, .5  # number of coin tosses, probability of heads or tails showing\n",
    "s = np.random.binomial(n, p, 5) # 5 trials carried out\n",
    "s"
   ]
  },
  {
   "cell_type": "markdown",
   "metadata": {},
   "source": [
    "When the above code was run, it produced the results below.  Note that if it is run again, the results will be different.  To keep the results the same, you would need to tell python to use the same seed.\n",
    "\n",
    "Test 1 = 2 of the 2 coin tosses showed heads\n",
    "\n",
    "Test 2 = 2 of the 2 coin tosses showed heads\n",
    "\n",
    "Test 3 = 1 of the 2 coin tosses showed heads\n",
    "\n",
    "Test 4 = 1 of the 2 coin tosses showed heads\n",
    "\n",
    "Test 5 = 2 of the 2 coin tosses showed heads"
   ]
  },
  {
   "cell_type": "markdown",
   "metadata": {},
   "source": [
    "The probability of a heads not showing can be obtained be using the function below:"
   ]
  },
  {
   "cell_type": "code",
   "execution_count": 50,
   "metadata": {},
   "outputs": [
    {
     "data": {
      "text/plain": [
       "0.0"
      ]
     },
     "execution_count": 50,
     "metadata": {},
     "output_type": "execute_result"
    }
   ],
   "source": [
    "# generate random data in the binomial distribution and calculate the probability of heads NOT showing\n",
    "n, p = 2, .5  # number of coin tosses, probability of heads or tails showing\n",
    "p = sum(np.random.binomial(n, p, 5) == 0)/5 # 5 trials\n",
    "p"
   ]
  },
  {
   "cell_type": "markdown",
   "metadata": {},
   "source": [
    "### np.random.geometric"
   ]
  },
  {
   "cell_type": "markdown",
   "metadata": {},
   "source": [
    "### np.random.standard_gamma"
   ]
  },
  {
   "cell_type": "markdown",
   "metadata": {},
   "source": [
    "# Explain the use of seeds in generating pseudorandom numbers"
   ]
  },
  {
   "cell_type": "markdown",
   "metadata": {},
   "source": [
    "Computers cant generate random numbers, they generate something that looks random.  The way computers deal with this is that they generate pseudorandom numbers. The Key piece of information in these numbers is the seed and if you know this, you should be able to predict the numbers.  Typically, this is the time of when the code is run.\n",
    "\n",
    "If you want to test your code, you might need to generate the same random numbers every time.  You can tell python not to generate a random seed at the start, but instead you can give a seed so that the next time you run the code, you'll get the same random numbers and can test that everything is working"
   ]
  },
  {
   "cell_type": "code",
   "execution_count": null,
   "metadata": {},
   "outputs": [],
   "source": []
  },
  {
   "cell_type": "code",
   "execution_count": null,
   "metadata": {},
   "outputs": [],
   "source": []
  },
  {
   "cell_type": "code",
   "execution_count": null,
   "metadata": {},
   "outputs": [],
   "source": []
  },
  {
   "cell_type": "code",
   "execution_count": null,
   "metadata": {},
   "outputs": [],
   "source": []
  },
  {
   "cell_type": "code",
   "execution_count": 8,
   "metadata": {},
   "outputs": [
    {
     "data": {
      "text/plain": [
       "<Figure size 640x480 with 1 Axes>"
      ]
     },
     "metadata": {},
     "output_type": "display_data"
    }
   ],
   "source": [
    "import matplotlib.pyplot as plt\n",
    "\n",
    "plt.hist(x)\n",
    "plt.show()"
   ]
  },
  {
   "cell_type": "code",
   "execution_count": 9,
   "metadata": {},
   "outputs": [],
   "source": [
    "x = np.random.uniform(0,1000,10000)"
   ]
  },
  {
   "cell_type": "code",
   "execution_count": 10,
   "metadata": {},
   "outputs": [
    {
     "data": {
      "text/plain": [
       "(array([ 962., 1008.,  951., 1027., 1021., 1008., 1013.,  969.,  983.,\n",
       "        1058.]),\n",
       " array([2.11899807e-01, 1.00188738e+02, 2.00165576e+02, 3.00142415e+02,\n",
       "        4.00119253e+02, 5.00096091e+02, 6.00072929e+02, 7.00049768e+02,\n",
       "        8.00026606e+02, 9.00003444e+02, 9.99980282e+02]),\n",
       " <a list of 10 Patch objects>)"
      ]
     },
     "execution_count": 10,
     "metadata": {},
     "output_type": "execute_result"
    },
    {
     "data": {
      "image/png": "[encoded data removed]",
      "text/plain": [
       "<Figure size 432x288 with 1 Axes>"
      ]
     },
     "metadata": {},
     "output_type": "display_data"
    }
   ],
   "source": [
    "plt.hist(x)"
   ]
  },
  {
   "cell_type": "code",
   "execution_count": 11,
   "metadata": {},
   "outputs": [],
   "source": [
    "x = np.random.normal(0,0.1,1000)"
   ]
  },
  {
   "cell_type": "code",
   "execution_count": 12,
   "metadata": {
    "scrolled": true
   },
   "outputs": [
    {
     "data": {
      "text/plain": [
       "(array([  3.,  26.,  77., 181., 276., 244., 136.,  45.,  11.,   1.]),\n",
       " array([-0.34774292, -0.27744549, -0.20714806, -0.13685063, -0.0665532 ,\n",
       "         0.00374423,  0.07404166,  0.14433909,  0.21463653,  0.28493396,\n",
       "         0.35523139]),\n",
       " <a list of 10 Patch objects>)"
      ]
     },
     "execution_count": 12,
     "metadata": {},
     "output_type": "execute_result"
    },
    {
     "data": {
      "image/png": "[encoded data removed]",
      "text/plain": [
       "<Figure size 432x288 with 1 Axes>"
      ]
     },
     "metadata": {},
     "output_type": "display_data"
    }
   ],
   "source": [
    "plt.hist(x)"
   ]
  },
  {
   "cell_type": "markdown",
   "metadata": {},
   "source": [
    "## References\n",
    "1 - https://docs.scipy.org/doc/numpy/\n",
    "\n",
    "2 - https://docs.scipy.org/doc/numpy/reference/routines.random.html\n",
    "\n",
    "3 - http://onlinestatbook.com/2/glossary/standard_normal.html\n",
    "\n",
    "4 - https://www.ucd.ie/t4cms/Uniform%20Distribution.pdf\n",
    "\n",
    "5 - https://www.random.org/randomness/\n",
    "\n",
    "6 - https://en.wikipedia.org/wiki/Pseudorandomness\n",
    "\n",
    "7 - https://en.wikipedia.org/wiki/Random_seed\n",
    "\n",
    "8 - https://en.wikipedia.org/wiki/Binomial_distribution\n",
    "\n",
    "9 - http://onlinestatbook.com/2/probability/binomial.html\n",
    "\n",
    "10 - http://onlinestatbook.com/2/introduction/distributions.html\n",
    "\n",
    "11 - https://machinelearningmastery.com/statistical-data-distributions/\n",
    "\n",
    "12 - http://blog.cloudera.com/blog/2015/12/common-probability-distributions-the-data-scientists-crib-sheet/"
   ]
  },
  {
   "cell_type": "markdown",
   "metadata": {},
   "source": [
    "# Random"
   ]
  },
  {
   "cell_type": "markdown",
   "metadata": {},
   "source": [
    "# End"
   ]
  },
  {
   "cell_type": "code",
   "execution_count": null,
   "metadata": {},
   "outputs": [],
   "source": []
  }
 ],
 "metadata": {
  "kernelspec": {
   "display_name": "Python 3",
   "language": "python",
   "name": "python3"
  },
  "language_info": {
   "codemirror_mode": {
    "name": "ipython",
    "version": 3
   },
   "file_extension": ".py",
   "mimetype": "text/x-python",
   "name": "python",
   "nbconvert_exporter": "python",
   "pygments_lexer": "ipython3",
   "version": "3.6.5"
  }
 },
 "nbformat": 4,
 "nbformat_minor": 2
}
