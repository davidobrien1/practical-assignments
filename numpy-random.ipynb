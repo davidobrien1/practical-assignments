{
 "cells": [
  {
   "cell_type": "markdown",
   "metadata": {},
   "source": [
    "# Programming for Data Analysis   \n",
    "# Semester 2 Assignment 2018\n",
    "### Student:    David O'Brien\n",
    "### Student ID: G00364766\n",
    "\n",
    "### Numpy.random package in Python\n",
    "![picture of Numpy logo](http://www.numpy.org/_static/numpy_logo.png)\n",
    "![image of different distributions](http://blog.cloudera.com/wp-content/uploads/2015/12/distribution.png)"
   ]
  },
  {
   "cell_type": "markdown",
   "metadata": {},
   "source": [
    "# 1 - Explain the overall purpose of the package\n",
    "Numpy is a specialist package that is really efficient dealing with arrays and numbers.  The reason its so popular is because generally the best way to deal with anything on a computer, i.e. resizing images, turning songs into mp3's, anything scientific, is by using matrix operations, and Numpy knows how to do these operations very efficiently. \n",
    "\n",
    "Random numbers may be used for such things as generating data encrytption keys, for selecting random samples from larger data sets, games and gambling$^{5}$.  Numpy.random is  sub-package of the numpy package in Python and it is used to generate random (pseudorandom) numbers.  A lot of other packages depend on Numpy.  Interacting with it directly is not that common - You usually interact with numpy objects through the use of other packages such as pandas or scipy.  There are a number of ways to generate random numbers and the numpy.random package has four sections to do this:\n",
    "\n",
    "1 - Random Data Sampling\n",
    "\n",
    "2 - Permutations\n",
    "\n",
    "3 - Distributions - different probability distributions\n",
    "\n",
    "4 - Random Generator\n"
   ]
  },
  {
   "cell_type": "markdown",
   "metadata": {},
   "source": [
    "# 2 - Explain the use of the \"Simple random data\" and \"Permutations\" functions\n",
    "\n"
   ]
  },
  {
   "cell_type": "markdown",
   "metadata": {},
   "source": [
    "## 2.1 - Simple Random Data\n",
    "Below, I will test a sample of the functions under the \"Simple Random Data\" section of the numpy.random documentation, showing the purpose of each function"
   ]
  },
  {
   "cell_type": "code",
   "execution_count": 1,
   "metadata": {},
   "outputs": [],
   "source": [
    "# import numpy\n",
    "import numpy as np\n",
    "# import matplotlib\n",
    "import matplotlib.pyplot as plt\n",
    "# import pandas\n",
    "import pandas as pd\n",
    "# import seaborn\n",
    "import seaborn as sns"
   ]
  },
  {
   "cell_type": "markdown",
   "metadata": {},
   "source": [
    "### 2.1.1 - np.random.rand\n",
    "np.random.rand retuns an array between 0 and 1 based on the inputs.  The example below will return an array with 5 columns and 6 rows with numbers betweeen 0 and 1"
   ]
  },
  {
   "cell_type": "code",
   "execution_count": 2,
   "metadata": {},
   "outputs": [
    {
     "data": {
      "text/plain": [
       "array([[0.2322518 , 0.04632347, 0.00126989, 0.96674254, 0.43811239,\n",
       "        0.90749774],\n",
       "       [0.33597897, 0.14752334, 0.85879569, 0.1705779 , 0.03129326,\n",
       "        0.34135288],\n",
       "       [0.85263358, 0.11120852, 0.53681819, 0.04988408, 0.79652689,\n",
       "        0.53375585],\n",
       "       [0.30319177, 0.30282759, 0.32587583, 0.03238007, 0.88545015,\n",
       "        0.22167634],\n",
       "       [0.42364578, 0.14032932, 0.15633415, 0.92021468, 0.17883797,\n",
       "        0.1842841 ]])"
      ]
     },
     "execution_count": 2,
     "metadata": {},
     "output_type": "execute_result"
    }
   ],
   "source": [
    "# generate an array of random numbers between 0 and 1 with 5 rows and 6 columns\n",
    "x = np.random.rand(5,6)\n",
    "x"
   ]
  },
  {
   "cell_type": "markdown",
   "metadata": {},
   "source": [
    "### 2.1.2 np.random.randn\n",
    "np.random.randn retuns an array of numbers from the standard normal distribution.  The standard normal distribution is a normal distribution with a mean of 0 and a standard deviation of 1$^{3}$.  The example below will return an array with 2 columns and 10"
   ]
  },
  {
   "cell_type": "code",
   "execution_count": 3,
   "metadata": {},
   "outputs": [
    {
     "data": {
      "text/plain": [
       "array([[-0.86984914, -0.42117886,  1.25768842,  0.10633188, -1.24465686,\n",
       "        -0.22955456,  0.69558665, -0.68492503, -0.25324648, -0.90794622],\n",
       "       [-1.10907658, -0.37123294,  0.33087083, -0.24680995, -0.71208159,\n",
       "         0.20658589, -0.17525773, -0.39360228,  0.40476963,  0.4440062 ]])"
      ]
     },
     "execution_count": 3,
     "metadata": {},
     "output_type": "execute_result"
    }
   ],
   "source": [
    "# generate an array of random numbers with 2 rows and102 columns that \n",
    "y = np.random.randn(2,10)\n",
    "y"
   ]
  },
  {
   "cell_type": "markdown",
   "metadata": {},
   "source": [
    "### 2.1.3 - np.random.sample\n",
    "np.random.sample retuns an array of numbers from the continuous unifrom distribution.  The uniform distribution (continuous) is one of the simplest probability distributions in statistics. It is a continuous distribution, this means that it takes values within a specified range, e.g. between 0 and 1$^{4}$.  The example below will return an array with 2 columns and 10"
   ]
  },
  {
   "cell_type": "code",
   "execution_count": 4,
   "metadata": {},
   "outputs": [
    {
     "data": {
      "text/plain": [
       "array([[-3.75622338, -0.71433613],\n",
       "       [-3.8310301 , -3.77483682]])"
      ]
     },
     "execution_count": 4,
     "metadata": {},
     "output_type": "execute_result"
    }
   ],
   "source": [
    "# Generate random numbers between 3 and minus 3 in an array of 2 rows and 2 columns\n",
    "5 * np.random.random_sample((2, 2)) - 5"
   ]
  },
  {
   "cell_type": "markdown",
   "metadata": {},
   "source": [
    "## 2.2 - Permutations\n",
    "A permutation is an arrangement of all or part of a set of objects, with regard to the order of the arrangement$^{13}$\n",
    "\n",
    "Below, I will test a sample of the functions under the \"Permutations\" section of the numpy.random documentation, showing the purpose of each function"
   ]
  },
  {
   "cell_type": "markdown",
   "metadata": {},
   "source": [
    "### 2.2.1 - np.random.shuffle\n",
    "This function shuffles the values in the array\n"
   ]
  },
  {
   "cell_type": "code",
   "execution_count": 5,
   "metadata": {},
   "outputs": [
    {
     "data": {
      "text/plain": [
       "array([5, 1, 9, 0, 7, 8, 3, 2, 6, 4])"
      ]
     },
     "execution_count": 5,
     "metadata": {},
     "output_type": "execute_result"
    }
   ],
   "source": [
    "# genearte an array of 10 random numbers. If this code is run a number of times, the output values will be the same but the order of the numbers will change\n",
    "z = np.arange(10)\n",
    "np.random.shuffle(z)\n",
    "z\n"
   ]
  },
  {
   "cell_type": "code",
   "execution_count": 6,
   "metadata": {},
   "outputs": [
    {
     "data": {
      "text/plain": [
       "array([[6, 7, 8],\n",
       "       [3, 4, 5],\n",
       "       [0, 1, 2]])"
      ]
     },
     "execution_count": 6,
     "metadata": {},
     "output_type": "execute_result"
    }
   ],
   "source": [
    "# genearte an array of 10 random numbers in a 3x3 array. If this code run a number of times, the output values will be the same for the columns but the row values will move\n",
    "a = np.arange(9).reshape((3, 3))\n",
    "np.random.shuffle(a)\n",
    "a\n"
   ]
  },
  {
   "cell_type": "markdown",
   "metadata": {},
   "source": [
    "# 3 - Explain the use and purpose of at least five \"Distributions\" functions\n",
    "\n",
    "Distributions are the spread of data across certain categories.  There are many different probability distribution functions that can be used to tell us how likely certain outcomes are.  These functions in the numpy.random package let us generate random values from different distributions i.e. unifrom, normal, binomial"
   ]
  },
  {
   "cell_type": "markdown",
   "metadata": {},
   "source": [
    "### 3.1 - np.random.uniform"
   ]
  },
  {
   "cell_type": "markdown",
   "metadata": {},
   "source": [
    "This function generates samples from a uniform distribution.\n",
    "\n",
    "In the context of probability distributions, uniform distribution refers to a probability distribution for which all of the values that a random variable can take on occur with equal probability$^{17}$ i.e it is a probability distribution that has constant probability.  \n",
    "\n",
    "A good example of this is the roll of a dice.  Every time the dice is rolled, you have the same probability of getting any of the numbers from 1 to 6.\n"
   ]
  },
  {
   "cell_type": "code",
   "execution_count": 7,
   "metadata": {},
   "outputs": [
    {
     "data": {
      "text/plain": [
       "2.996142895861431"
      ]
     },
     "execution_count": 7,
     "metadata": {},
     "output_type": "execute_result"
    }
   ],
   "source": [
    "# genearte samples from the uniform distribution\n",
    "x = np.random.uniform(2,4,20000) # 2 is the lower boundary of the output; 4 is the upper boundary and 20000 is the size of sample \n",
    "x.mean() # show the mean of all samples of x - note that the mean will alway be very close to 3\n"
   ]
  },
  {
   "cell_type": "markdown",
   "metadata": {},
   "source": [
    "The histogram below has plotted all of the 20,000 values genereated above.  We can see from the plot that the numbers between 2 and 4 are nearly generated the same amount of times"
   ]
  },
  {
   "cell_type": "code",
   "execution_count": 8,
   "metadata": {
    "scrolled": true
   },
   "outputs": [
    {
     "data": {
      "image/png": "[encoded data removed]",
      "text/plain": [
       "<Figure size 432x288 with 1 Axes>"
      ]
     },
     "metadata": {},
     "output_type": "display_data"
    }
   ],
   "source": [
    "# generate a histogram of x\n",
    "plt.xlabel('Values') # x label\n",
    "plt.ylabel('Number of samples') # y label\n",
    "plt.hist(x) # plot histogram of x\n",
    "plt.show() # show histogram\n"
   ]
  },
  {
   "cell_type": "markdown",
   "metadata": {},
   "source": [
    "### 3.2 - np.random.normal"
   ]
  },
  {
   "cell_type": "markdown",
   "metadata": {},
   "source": [
    "This function generates random samples from a normal distribution.\n",
    "\n",
    "The normal distribution is a probability function that describes how the values of a variable are distributed$^{20}$\n",
    "\n",
    "We can see from the plot below that that most of the results gather in the middle around the value 1"
   ]
  },
  {
   "cell_type": "code",
   "execution_count": 21,
   "metadata": {},
   "outputs": [
    {
     "name": "stdout",
     "output_type": "stream",
     "text": [
      "0.999558650615588\n",
      "0.4989544639030945\n"
     ]
    }
   ],
   "source": [
    "x = np.random.normal(1,0.5,1000) # 1 is the mean, 0.5 is the standard deviation and 1000 is the size\n",
    "print(np.mean(x)) # test that the mean is 1 - if code is re-run, the mean will be very close to 1\n",
    "print(np.std(x)) # test that the standard deviation is 0.5 - if code is re-run, the mean will be very close to 0.5"
   ]
  },
  {
   "cell_type": "code",
   "execution_count": 22,
   "metadata": {
    "scrolled": false
   },
   "outputs": [
    {
     "name": "stderr",
     "output_type": "stream",
     "text": [
      "C:\\ProgramData\\Anaconda3\\lib\\site-packages\\matplotlib\\axes\\_axes.py:6462: UserWarning: The 'normed' kwarg is deprecated, and has been replaced by the 'density' kwarg.\n",
      "  warnings.warn(\"The 'normed' kwarg is deprecated, and has been \"\n"
     ]
    },
    {
     "data": {
      "text/plain": [
       "<matplotlib.axes._subplots.AxesSubplot at 0x21944f6fda0>"
      ]
     },
     "execution_count": 22,
     "metadata": {},
     "output_type": "execute_result"
    },
    {
     "data": {
      "image/png": "[encoded data removed]",
      "text/plain": [
       "<Figure size 432x288 with 1 Axes>"
      ]
     },
     "metadata": {},
     "output_type": "display_data"
    }
   ],
   "source": [
    "sns.distplot(x) # use seaborn to create plot"
   ]
  },
  {
   "cell_type": "markdown",
   "metadata": {},
   "source": [
    "### 3.3 - np.random.binomial"
   ]
  },
  {
   "cell_type": "markdown",
   "metadata": {},
   "source": [
    "This function generates samples from a binomial distribution.\n",
    "\n",
    "The binomial distribution with parameters n and p is the discrete probability distribution of the number of successes in a sequence of n independent experiments, each asking a yes–no question, and each with its own boolean-valued outcome: a random variable containing a single bit of information: success/yes/true/one (with probability p) or failure/no/false/zero (with probability q = 1 − p)$^{8}$\n",
    "\n",
    "The key difference is that a binomial distribution is discrete, not continuous. In other words, it is NOT possible to find a data value between any two data values$^{14}$\n",
    "\n",
    "In the example below, imagine the toss of a coin where you can have two possible outcomes - heads or tails.  The probability of heads or tails is 0.5.  If you were to toss the coin twice, how many times does it come up heads?  To explain this function, i have kept the number of tests low."
   ]
  },
  {
   "cell_type": "code",
   "execution_count": 11,
   "metadata": {},
   "outputs": [
    {
     "data": {
      "text/plain": [
       "array([1, 1, 2, 1, 2])"
      ]
     },
     "execution_count": 11,
     "metadata": {},
     "output_type": "execute_result"
    }
   ],
   "source": [
    "# generate random data in the binomial distribution\n",
    "n, p = 2, .5  # number of coin tosses, probability of heads or tails showing\n",
    "s = np.random.binomial(n, p, 5) # 5 trials carried out\n",
    "s"
   ]
  },
  {
   "cell_type": "markdown",
   "metadata": {},
   "source": [
    "When the above code was run, it produced the results below.  Note that if it is run again, the results will be different.  To keep the results the same, you would need to tell python to use the same seed.\n",
    "\n",
    "Test 1 = 2 of the 2 coin tosses showed heads\n",
    "\n",
    "Test 2 = 2 of the 2 coin tosses showed heads\n",
    "\n",
    "Test 3 = 1 of the 2 coin tosses showed heads\n",
    "\n",
    "Test 4 = 1 of the 2 coin tosses showed heads\n",
    "\n",
    "Test 5 = 2 of the 2 coin tosses showed heads"
   ]
  },
  {
   "cell_type": "markdown",
   "metadata": {},
   "source": [
    "The probability of a heads not showing can be obtained be using the function below:"
   ]
  },
  {
   "cell_type": "code",
   "execution_count": 26,
   "metadata": {},
   "outputs": [
    {
     "data": {
      "text/plain": [
       "0.6"
      ]
     },
     "execution_count": 26,
     "metadata": {},
     "output_type": "execute_result"
    }
   ],
   "source": [
    "# generate random data in the binomial distribution and calculate the probability of heads NOT showing\n",
    "n, p = 2, .5  # number of coin tosses, probability of heads or tails showing\n",
    "p = sum(np.random.binomial(n, p, 5) == 0)/5 # 5 trials\n",
    "p"
   ]
  },
  {
   "cell_type": "markdown",
   "metadata": {},
   "source": [
    "In the code below, I have carried out 5000 trials in order to illustrate the results on a histogram"
   ]
  },
  {
   "cell_type": "code",
   "execution_count": 13,
   "metadata": {},
   "outputs": [
    {
     "data": {
      "text/plain": [
       "array([5, 7, 4, ..., 7, 7, 6])"
      ]
     },
     "execution_count": 13,
     "metadata": {},
     "output_type": "execute_result"
    }
   ],
   "source": [
    "# generate random data in the binomial distribution\n",
    "n, p = 10, .5  # number of coin tosses, probability of heads or tails showing\n",
    "t = np.random.binomial(n, p, 5000) # 5000 trials carried out\n",
    "t"
   ]
  },
  {
   "cell_type": "code",
   "execution_count": 14,
   "metadata": {},
   "outputs": [
    {
     "data": {
      "image/png": "[encoded data removed]",
      "text/plain": [
       "<Figure size 432x288 with 1 Axes>"
      ]
     },
     "metadata": {},
     "output_type": "display_data"
    }
   ],
   "source": [
    "# generate histogram \n",
    "plt.xlabel('Count of Heads showing')\n",
    "plt.ylabel('Number of samples')\n",
    "plt.hist(t)\n",
    "plt.show()"
   ]
  },
  {
   "cell_type": "markdown",
   "metadata": {},
   "source": [
    "The above plot shows a some bit of a bell shaped curve and is similar to a normal distribution.  Even though the two distributions are different, the resulting graphs are similar. \n",
    "The plot shows that the probability of getting 2 to 3 heads is about 200 over 5000.  The probability of getting 8 to 9 heads is the same.  The probability of getting 5 to 6 heads is about 1200 over 5000.\n",
    "When p = 0.5, the graph is somewhat symettric.  Below, I will illustrate how the graph changes if p is less than 0.5"
   ]
  },
  {
   "cell_type": "code",
   "execution_count": 27,
   "metadata": {},
   "outputs": [
    {
     "data": {
      "text/plain": [
       "array([2, 4, 1, ..., 3, 3, 5])"
      ]
     },
     "execution_count": 27,
     "metadata": {},
     "output_type": "execute_result"
    }
   ],
   "source": [
    "# generate random data in the binomial distribution\n",
    "n, p = 10, .3  # number of coin tosses, probability of heads or tails showing\n",
    "t = np.random.binomial(n, p, 5000) # 5000 trials carried out\n",
    "t"
   ]
  },
  {
   "cell_type": "code",
   "execution_count": 29,
   "metadata": {},
   "outputs": [
    {
     "data": {
      "image/png": "[encoded data removed]",
      "text/plain": [
       "<Figure size 432x288 with 1 Axes>"
      ]
     },
     "metadata": {},
     "output_type": "display_data"
    }
   ],
   "source": [
    "# generate histogram \n",
    "plt.xlabel('Count of Heads showing')\n",
    "plt.ylabel('Number of samples')\n",
    "plt.hist(t)\n",
    "plt.show()"
   ]
  },
  {
   "cell_type": "markdown",
   "metadata": {},
   "source": [
    "### 3.4 - np.random.triangular"
   ]
  },
  {
   "cell_type": "markdown",
   "metadata": {},
   "source": [
    "This function generates samples from the triangular distribution.\n",
    "\n",
    "A triangular distribution is a continuous probability distribution with a probability density function shaped like a triangle. It is defined by three values: the minimum value a, the maximum value b, and the peak value c$^{22}$\n",
    "\n",
    "\n",
    "Triangular distribution is used when we do not know a lot about the distribution of an outcome, but we do know the most likely outcome.\n",
    "\n",
    "Take for example the production of a pipe laying crew in a construction company.  The company estimate the the minimum output of the crew is 100m per week and the maximum is 1000m.  From historical records, they know that the most likely outcome is 400m.  In the example below, the probability density function is zero for values below 100 and above 1000.  It is linear from 100 to 400, and from 400 to 1000"
   ]
  },
  {
   "cell_type": "code",
   "execution_count": 34,
   "metadata": {
    "scrolled": true
   },
   "outputs": [
    {
     "data": {
      "image/png": "[encoded data removed]",
      "text/plain": [
       "<Figure size 432x288 with 1 Axes>"
      ]
     },
     "metadata": {},
     "output_type": "display_data"
    }
   ],
   "source": [
    "z = np.random.triangular(100, 400, 1000, 50000) # 100m is the minimum value, 400m is the peak value and 1000m is the maximum value. 50000 is the sample size\n",
    "plt.xlabel('meters of pipe per week')\n",
    "plt.ylabel('Number of samples')\n",
    "plt.hist(z)\n",
    "plt.show()"
   ]
  },
  {
   "cell_type": "markdown",
   "metadata": {},
   "source": [
    "### 3.5 - numpy.random.exponential"
   ]
  },
  {
   "cell_type": "markdown",
   "metadata": {},
   "source": [
    "This function generates samples from an exponential distribution.\n",
    "\n",
    "In probability theory and statistics, the exponential distribution (also known as the negative exponential distribution) is the probability distribution that describes the time between events in a Poisson point process, i.e., a process in which events occur continuously and independently at a constant average rate c$^{23}$"
   ]
  },
  {
   "cell_type": "code",
   "execution_count": 35,
   "metadata": {},
   "outputs": [
    {
     "name": "stderr",
     "output_type": "stream",
     "text": [
      "C:\\ProgramData\\Anaconda3\\lib\\site-packages\\matplotlib\\axes\\_axes.py:6462: UserWarning: The 'normed' kwarg is deprecated, and has been replaced by the 'density' kwarg.\n",
      "  warnings.warn(\"The 'normed' kwarg is deprecated, and has been \"\n"
     ]
    },
    {
     "data": {
      "image/png": "[encoded data removed]",
      "text/plain": [
       "<Figure size 432x288 with 1 Axes>"
      ]
     },
     "metadata": {},
     "output_type": "display_data"
    }
   ],
   "source": [
    "z = np.random.exponential(1/250, 5000)\n",
    "plt.hist(z, normed=True, bins=200,lw=0,alpha=.8)\n",
    "plt.show()"
   ]
  },
  {
   "cell_type": "markdown",
   "metadata": {},
   "source": [
    "# 4 - Explain the use of seeds in generating pseudorandom numbers"
   ]
  },
  {
   "cell_type": "markdown",
   "metadata": {},
   "source": [
    "Computers cant generate random numbers, they generate something that looks random.  The way computers deal with this is that they generate pseudorandom numbers. The Key piece of information in these numbers is the seed and if you know this, you should be able to predict the numbers.  Typically, this is the time of when the code is run.\n",
    "\n",
    "If you want to test your code, you might need to generate the same random numbers every time.  You can tell python not to generate a random seed at the start, but instead you can give a seed so that the next time you run the code, you'll get the same random numbers and can test that everything is working"
   ]
  },
  {
   "cell_type": "markdown",
   "metadata": {},
   "source": [
    "## References\n",
    "1 - https://docs.scipy.org/doc/numpy/\n",
    "\n",
    "2 - https://docs.scipy.org/doc/numpy/reference/routines.random.html\n",
    "\n",
    "3 - http://onlinestatbook.com/2/glossary/standard_normal.html\n",
    "\n",
    "4 - https://www.ucd.ie/t4cms/Uniform%20Distribution.pdf\n",
    "\n",
    "5 - https://www.random.org/randomness/\n",
    "\n",
    "6 - https://en.wikipedia.org/wiki/Pseudorandomness\n",
    "\n",
    "7 - https://en.wikipedia.org/wiki/Random_seed\n",
    "\n",
    "8 - https://en.wikipedia.org/wiki/Binomial_distribution\n",
    "\n",
    "9 - http://onlinestatbook.com/2/probability/binomial.html\n",
    "\n",
    "10 - http://onlinestatbook.com/2/introduction/distributions.html\n",
    "\n",
    "11 - https://machinelearningmastery.com/statistical-data-distributions/\n",
    "\n",
    "12 - http://blog.cloudera.com/blog/2015/12/common-probability-distributions-the-data-scientists-crib-sheet/\n",
    "\n",
    "13 - https://stattrek.com/statistics/dictionary.aspx?definition=permutation\n",
    "\n",
    "14 - http://staweb.sta.cathedral.org/departments/math/mhansen/public_html/23stat/handouts/normbino.htm\n",
    "\n",
    "15 - https://en.wikipedia.org/wiki/Normal_distribution\n",
    "\n",
    "16 - https://www.dummies.com/education/math/business-statistics/how-to-graph-the-binomial-distribution/\n",
    "\n",
    "17 - https://stattrek.com/statistics/dictionary.aspx?definition=uniform_distribution\n",
    "\n",
    "18 - https://www.statisticshowto.datasciencecentral.com/uniform-distribution/\n",
    "\n",
    "19 - https://matplotlib.org/api/_as_gen/matplotlib.pyplot.axhline.html\n",
    "\n",
    "20 - https://seaborn.pydata.org/tutorial/distributions.html#distribution-tutorial\n",
    "\n",
    "21 - http://statisticsbyjim.com/basics/normal-distribution/\n",
    "\n",
    "22 - https://learnandteachstatistics.files.wordpress.com/2013/07/notes-on-triangle-distributions.pdf\n",
    "\n",
    "23 - https://en.wikipedia.org/wiki/Exponential_distribution\n",
    "\n",
    "24 - https://stackoverflow.com/questions/15091982/manipulating-the-numpy-random-exponential-distribution-in-python\n",
    "\n",
    "25 - https://sisu.ut.ee/dev/measurement/34-other-distribution-functions-rectangular-and-triangular-distribution"
   ]
  },
  {
   "cell_type": "markdown",
   "metadata": {},
   "source": [
    "# End"
   ]
  },
  {
   "cell_type": "code",
   "execution_count": null,
   "metadata": {},
   "outputs": [],
   "source": []
  }
 ],
 "metadata": {
  "kernelspec": {
   "display_name": "Python 3",
   "language": "python",
   "name": "python3"
  },
  "language_info": {
   "codemirror_mode": {
    "name": "ipython",
    "version": 3
   },
   "file_extension": ".py",
   "mimetype": "text/x-python",
   "name": "python",
   "nbconvert_exporter": "python",
   "pygments_lexer": "ipython3",
   "version": "3.6.5"
  }
 },
 "nbformat": 4,
 "nbformat_minor": 2
}
